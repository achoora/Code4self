{
  "nbformat": 4,
  "nbformat_minor": 0,
  "metadata": {
    "colab": {
      "name": "Python3Commands.ipynb",
      "version": "0.3.2",
      "provenance": [],
      "include_colab_link": true
    },
    "kernelspec": {
      "name": "python3",
      "display_name": "Python 3"
    }
  },
  "cells": [
    {
      "cell_type": "markdown",
      "metadata": {
        "id": "view-in-github",
        "colab_type": "text"
      },
      "source": [
        "<a href=\"https://colab.research.google.com/github/achoora/Code4self/blob/master/Python3Commands.ipynb\" target=\"_parent\"><img src=\"https://colab.research.google.com/assets/colab-badge.svg\" alt=\"Open In Colab\"/></a>"
      ]
    },
    {
      "metadata": {
        "id": "7PIop1GVXFjm",
        "colab_type": "code",
        "colab": {
          "base_uri": "https://localhost:8080/",
          "height": 102
        },
        "outputId": "2a412411-cb99-4155-bb5d-763959cfbe7e"
      },
      "cell_type": "code",
      "source": [
        "# initializing lists \n",
        "name = [ \"Ani\", \"Anil\" ] \n",
        "roll_no = [ 1,2 ] \n",
        "marks = [ 90,100 ] \n",
        "  \n",
        "# using zip() to map values \n",
        "mapped = zip(name, roll_no, marks) \n",
        "  \n",
        "# converting values to print as set \n",
        "mapped = set(mapped) \n",
        "  \n",
        "# printing resultant values  \n",
        "print (\"The zipped result is : \",end=\"\") \n",
        "print (mapped)\n",
        "nam, roll_no, markz = zip(*mapped) \n",
        "  \n",
        "print (\"The unzipped result: \\n\",end=\"\") \n",
        "  \n",
        "print (\"The name list is : \",end=\"\") \n",
        "print (nam) \n",
        "  \n",
        "print (\"The roll_no list is : \",end=\"\") \n",
        "print (roll_no) \n",
        "  \n",
        "print (\"The marks list is : \",end=\"\") \n",
        "print (markz) "
      ],
      "execution_count": 5,
      "outputs": [
        {
          "output_type": "stream",
          "text": [
            "The zipped result is : {('Anil', 2, 100), ('Ani', 1, 90)}\n",
            "The unzipped result: \n",
            "The name list is : ('Anil', 'Ani')\n",
            "The roll_no list is : (2, 1)\n",
            "The marks list is : (100, 90)\n"
          ],
          "name": "stdout"
        }
      ]
    }
  ]
}